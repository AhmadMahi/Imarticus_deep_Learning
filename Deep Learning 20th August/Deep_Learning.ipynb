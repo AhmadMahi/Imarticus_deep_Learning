{
  "nbformat": 4,
  "nbformat_minor": 0,
  "metadata": {
    "colab": {
      "provenance": []
    },
    "kernelspec": {
      "name": "python3",
      "display_name": "Python 3"
    },
    "language_info": {
      "name": "python"
    }
  },
  "cells": [
    {
      "cell_type": "markdown",
      "source": [
        "AND Gate Implemnattaion Using Manual Single Layer NN\n"
      ],
      "metadata": {
        "id": "6akOwSkuQmWx"
      }
    },
    {
      "cell_type": "code",
      "execution_count": null,
      "metadata": {
        "colab": {
          "base_uri": "https://localhost:8080/"
        },
        "id": "tLA0Pb1ePY-l",
        "outputId": "4202a9d2-e355-4738-fc52-3cc5a39212ab"
      },
      "outputs": [
        {
          "output_type": "stream",
          "name": "stdout",
          "text": [
            "the Test Result Values Are\n",
            "Input: [0 0 1] | Prediction: 0\n",
            "Input: [0 1 1] | Prediction: 0\n",
            "Input: [1 0 1] | Prediction: 0\n",
            "Input: [1 1 1] | Prediction: 1\n"
          ]
        }
      ],
      "source": [
        "import numpy as np\n",
        "X = np.array([[0,0,1],\n",
        "              [0,1,1],\n",
        "              [1,0,1],\n",
        "              [1,1,1]])\n",
        "y = np.array([0,0,0,1])\n",
        "\n",
        "weights = np.random.rand(3)\n",
        "learning_rate = 0.1\n",
        "epochs =  10000\n",
        "\n",
        "for epochs in range(epochs):\n",
        "  for i in range(len(X)):\n",
        "    activation = np.dot(X[i], weights)\n",
        "    if(activation > 0):\n",
        "      prediction = 1\n",
        "    else:\n",
        "      prediction = 0\n",
        "\n",
        "    error = y[i] - prediction\n",
        "    weights += learning_rate * error * X[i]\n",
        "\n",
        "test_inputs = np.array([[0,0,1],[0,1,1],[1,0,1],[1,1,1]])\n",
        "print(\"the Test Result Values Are\")\n",
        "for input_set in test_inputs:\n",
        "  activation = np.dot(input_set , weights)\n",
        "  if(activation > 0):\n",
        "      prediction = 1\n",
        "  else:\n",
        "      prediction = 0\n",
        "  print(f\"Input: {input_set[:3]} | Prediction: {prediction}\")"
      ]
    },
    {
      "cell_type": "markdown",
      "source": [
        "OR Gate"
      ],
      "metadata": {
        "id": "k837LrcZUQT1"
      }
    },
    {
      "cell_type": "code",
      "source": [
        "import numpy as np\n",
        "X = np.array([[0,0,1],\n",
        "              [0,1,1],\n",
        "              [1,0,1],\n",
        "              [1,1,1]])\n",
        "y = np.array([0,1,1,1])\n",
        "\n",
        "weights = np.random.rand(3)\n",
        "learning_rate = 0.1\n",
        "epochs =  10000\n",
        "\n",
        "for epochs in range(epochs):\n",
        "  for i in range(len(X)):\n",
        "    activation = np.dot(X[i], weights)\n",
        "    if(activation > 0):\n",
        "      prediction = 1\n",
        "    else:\n",
        "      prediction = 0\n",
        "\n",
        "    error = y[i] - prediction\n",
        "    weights += learning_rate * error * X[i]\n",
        "\n",
        "test_inputs = np.array([[0,0,1],[0,1,1],[1,0,1],[1,1,1]])\n",
        "print(\"the Test Result Values Are\")\n",
        "for input_set in test_inputs:\n",
        "  activation = np.dot(input_set , weights)\n",
        "  if(activation > 0):\n",
        "      prediction = 1\n",
        "  else:\n",
        "      prediction = 0\n",
        "  print(f\"Input: {input_set[:3]} | Prediction: {prediction}\")"
      ],
      "metadata": {
        "colab": {
          "base_uri": "https://localhost:8080/"
        },
        "id": "HKuAw21hSF9A",
        "outputId": "d57f7122-f266-4cd8-d017-15ae0acc9ac1"
      },
      "execution_count": null,
      "outputs": [
        {
          "output_type": "stream",
          "name": "stdout",
          "text": [
            "the Test Result Values Are\n",
            "Input: [0 0 1] | Prediction: 0\n",
            "Input: [0 1 1] | Prediction: 1\n",
            "Input: [1 0 1] | Prediction: 1\n",
            "Input: [1 1 1] | Prediction: 1\n"
          ]
        }
      ]
    },
    {
      "cell_type": "code",
      "source": [
        "from tensorflow.keras.models import Sequential\n",
        "from tensorflow.keras.layers import Dense\n",
        "\n",
        "X = np.array([[0,0],\n",
        "              [0,1],\n",
        "              [1,0],\n",
        "              [1,1]])\n",
        "y = np.array([0,1,1,1])\n",
        "\n",
        "model = Sequential()\n",
        "model.add(Dense(1,input_shape = (2,), activation = \"sigmoid\"))\n",
        "model.compile(optimizer ='adam', loss='binary_crossentropy', metrics=['accuracy'])\n",
        "model.fit(X, y, epochs=10000, verbose=0)\n",
        "\n",
        "predictions = model.predict(X)\n",
        "rounded_predictions = [int(round(p[0])) for p in predictions]\n",
        "\n",
        "print(\"The Test Results Are\")\n",
        "for i in range(len(X)):\n",
        "  print(f\"input:{X[i]} | Predictions: {rounded_predictions[i]}\")"
      ],
      "metadata": {
        "colab": {
          "base_uri": "https://localhost:8080/"
        },
        "id": "tpsJJVOtTuiy",
        "outputId": "6c5922f0-a147-413e-9978-8d88b86d809f"
      },
      "execution_count": null,
      "outputs": [
        {
          "output_type": "stream",
          "name": "stdout",
          "text": [
            "1/1 [==============================] - 0s 45ms/step\n",
            "The Test Results Are\n",
            "input:[0 0] | Predictions: 0\n",
            "input:[0 1] | Predictions: 1\n",
            "input:[1 0] | Predictions: 1\n",
            "input:[1 1] | Predictions: 1\n"
          ]
        }
      ]
    },
    {
      "cell_type": "code",
      "source": [],
      "metadata": {
        "id": "TTpS8BkyZhHM"
      },
      "execution_count": null,
      "outputs": []
    }
  ]
}